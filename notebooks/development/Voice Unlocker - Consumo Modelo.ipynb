{
 "cells": [
  {
   "cell_type": "markdown",
   "id": "available-westminster",
   "metadata": {
    "toc": true
   },
   "source": [
    "<h1>Table of Contents<span class=\"tocSkip\"></span></h1>\n",
    "<div class=\"toc\"><ul class=\"toc-item\"><li><span><a href=\"#Testando-Lógica\" data-toc-modified-id=\"Testando-Lógica-1\"><span class=\"toc-item-num\">1&nbsp;&nbsp;</span>Testando Lógica</a></span></li></ul></div>"
   ]
  },
  {
   "cell_type": "markdown",
   "id": "logical-taste",
   "metadata": {},
   "source": [
    "Ideias:\n",
    "\n",
    "* Criar um diretório específico na pasta do projeto para alocar arquivos mp3 alvos do consumo do modelo\n",
    "* Realizar gravações de áudio usando o app Voice Recorder e automaticamente posicionar os arquivos mp3 no diretório específico criado para leitura e consumo do modelo\n",
    "* Criar script python com algumas regras de verificação de arquivos nesse diretório, como por exemplo:\n",
    "    * Laço infinito de validação de presença de arquivos (ou então um start manual após a gravação)\n",
    "    * Validação da presença de mais de 1 arquivo (warning pro usuário)\n",
    "    * Validação de extensão do arquivo disponibilizado no diretório (necessariamente mp3)\n",
    "* Após a leitura e consumo do modelo, propor a exclusão do arquivo a criação de um histórico de predições"
   ]
  },
  {
   "cell_type": "code",
   "execution_count": 1,
   "id": "likely-manufacturer",
   "metadata": {
    "ExecuteTime": {
     "end_time": "2021-04-04T21:55:49.919117Z",
     "start_time": "2021-04-04T21:55:48.461334Z"
    }
   },
   "outputs": [],
   "source": [
    "# Importação de bibliotecas\n",
    "import os\n",
    "import librosa\n",
    "import time"
   ]
  },
  {
   "cell_type": "code",
   "execution_count": 2,
   "id": "informative-floor",
   "metadata": {
    "ExecuteTime": {
     "end_time": "2021-04-04T21:55:49.923602Z",
     "start_time": "2021-04-04T21:55:49.920901Z"
    }
   },
   "outputs": [],
   "source": [
    "# Definindo variáveis de caminho\n",
    "PROJECT_PATH = '/home/paninit/workspaces/voice-unlocker'\n",
    "TARGET_PATH_NAME = 'audios_for_predict'\n",
    "TARGET_PATH = os.path.join(PROJECT_PATH, TARGET_PATH_NAME)\n",
    "\n",
    "AUDIO_EXT = '.mp3'"
   ]
  },
  {
   "cell_type": "markdown",
   "id": "several-insulation",
   "metadata": {},
   "source": [
    "# Testando Lógica"
   ]
  },
  {
   "cell_type": "code",
   "execution_count": 3,
   "id": "logical-nancy",
   "metadata": {
    "ExecuteTime": {
     "end_time": "2021-04-04T21:55:49.931462Z",
     "start_time": "2021-04-04T21:55:49.925145Z"
    }
   },
   "outputs": [],
   "source": [
    "# Criando diretório, caso inexistente\n",
    "if not os.path.isdir(TARGET_PATH):\n",
    "    os.makedirs(TARGET_PATH)"
   ]
  },
  {
   "cell_type": "code",
   "execution_count": 4,
   "id": "afraid-scotland",
   "metadata": {
    "ExecuteTime": {
     "end_time": "2021-04-04T21:55:49.945257Z",
     "start_time": "2021-04-04T21:55:49.932810Z"
    }
   },
   "outputs": [
    {
     "data": {
      "text/plain": [
       "[]"
      ]
     },
     "execution_count": 4,
     "metadata": {},
     "output_type": "execute_result"
    }
   ],
   "source": [
    "# Verificando arquivos no diretório\n",
    "os.listdir(TARGET_PATH)"
   ]
  },
  {
   "cell_type": "code",
   "execution_count": 5,
   "id": "pacific-trash",
   "metadata": {
    "ExecuteTime": {
     "end_time": "2021-04-04T21:55:49.951663Z",
     "start_time": "2021-04-04T21:55:49.947646Z"
    }
   },
   "outputs": [
    {
     "data": {
      "text/plain": [
       "0"
      ]
     },
     "execution_count": 5,
     "metadata": {},
     "output_type": "execute_result"
    }
   ],
   "source": [
    "# Regra 1 - quantidade de arquivos no diretório\n",
    "valid_files = [file for file in os.listdir(TARGET_PATH) if os.path.splitext(file)[-1] == AUDIO_EXT]\n",
    "qtd_files = len(valid_files)\n",
    "\n",
    "if qtd_files > 1:\n",
    "    print(f'Foram encontrados {qtd_files} arquivos {AUDIO_EXT} no diretório. Necessário validar um áudio por vez.')\n",
    "qtd_files"
   ]
  },
  {
   "cell_type": "markdown",
   "id": "noticed-engine",
   "metadata": {},
   "source": [
    "___"
   ]
  },
  {
   "cell_type": "code",
   "execution_count": 6,
   "id": "spread-center",
   "metadata": {
    "ExecuteTime": {
     "end_time": "2021-04-04T21:55:49.958749Z",
     "start_time": "2021-04-04T21:55:49.952742Z"
    }
   },
   "outputs": [
    {
     "name": "stdout",
     "output_type": "stream",
     "text": [
      "Nenhum arquivo .mp3 encontrado no diretório. Verificar extensão do áudio disponibilizado.\n"
     ]
    }
   ],
   "source": [
    "# Regra 2 - nenhum arquivo encontrado com a extensão correta\n",
    "if qtd_files == 0:\n",
    "    print(f'Nenhum arquivo {AUDIO_EXT} encontrado no diretório. Verificar extensão do áudio disponibilizado.')"
   ]
  },
  {
   "cell_type": "markdown",
   "id": "northern-efficiency",
   "metadata": {
    "ExecuteTime": {
     "end_time": "2021-04-03T19:41:30.017616Z",
     "start_time": "2021-04-03T19:41:29.988274Z"
    }
   },
   "source": [
    "___"
   ]
  },
  {
   "cell_type": "code",
   "execution_count": 7,
   "id": "angry-statistics",
   "metadata": {
    "ExecuteTime": {
     "end_time": "2021-04-04T21:55:49.964352Z",
     "start_time": "2021-04-04T21:55:49.960045Z"
    }
   },
   "outputs": [],
   "source": [
    "# Regra 3 - manter mais recente em caso de múltiplos audios\n",
    "if qtd_files > 1:\n",
    "    ctimes = [os.path.getctime(os.path.join(TARGET_PATH, file)) for file in valid_files]\n",
    "    audio_ctimes = [time.strftime('%Y-%m-%d %H:%M:%S', time.localtime(ct)) for ct in ctimes] \n",
    "    print(audio_ctimes)\n",
    "\n",
    "    idx_max_ctime = audio_ctimes.index(max(audio_ctimes))\n",
    "    last_valid_audio = valid_files[idx_max_ctime]\n",
    "    print(last_valid_audio)"
   ]
  },
  {
   "cell_type": "markdown",
   "id": "magnetic-things",
   "metadata": {},
   "source": [
    "___"
   ]
  },
  {
   "cell_type": "code",
   "execution_count": 8,
   "id": "black-marina",
   "metadata": {
    "ExecuteTime": {
     "end_time": "2021-04-04T21:55:49.970264Z",
     "start_time": "2021-04-04T21:55:49.966121Z"
    }
   },
   "outputs": [],
   "source": [
    "# Regra 4 - expurgo dos áudios\n",
    "for file in os.listdir(TARGET_PATH):\n",
    "    os.remove(os.path.join(TARGET_PATH, file))"
   ]
  },
  {
   "cell_type": "code",
   "execution_count": null,
   "id": "limited-organic",
   "metadata": {},
   "outputs": [],
   "source": []
  }
 ],
 "metadata": {
  "kernelspec": {
   "display_name": "Python 3",
   "language": "python",
   "name": "python3"
  },
  "language_info": {
   "codemirror_mode": {
    "name": "ipython",
    "version": 3
   },
   "file_extension": ".py",
   "mimetype": "text/x-python",
   "name": "python",
   "nbconvert_exporter": "python",
   "pygments_lexer": "ipython3",
   "version": "3.8.0"
  },
  "toc": {
   "base_numbering": 1,
   "nav_menu": {},
   "number_sections": true,
   "sideBar": true,
   "skip_h1_title": false,
   "title_cell": "Table of Contents",
   "title_sidebar": "Contents",
   "toc_cell": true,
   "toc_position": {},
   "toc_section_display": true,
   "toc_window_display": false
  }
 },
 "nbformat": 4,
 "nbformat_minor": 5
}
